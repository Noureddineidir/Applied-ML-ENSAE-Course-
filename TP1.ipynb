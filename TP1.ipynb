{
 "cells": [
  {
   "cell_type": "markdown",
   "metadata": {
    "toc": true
   },
   "source": [
    "<h1>Table of Contents<span class=\"tocSkip\"></span></h1>\n",
    "<div class=\"toc\"><ul class=\"toc-item\"><li><span><a href=\"#Description-of-my-loss-function\" data-toc-modified-id=\"Description-of-my-loss-function-1\"><span class=\"toc-item-num\">1&nbsp;&nbsp;</span>Description of my loss function</a></span></li><li><span><a href=\"#Description-of-my-pipeline\" data-toc-modified-id=\"Description-of-my-pipeline-2\"><span class=\"toc-item-num\">2&nbsp;&nbsp;</span>Description of my pipeline</a></span></li><li><span><a href=\"#Description-of-the-algorithms\" data-toc-modified-id=\"Description-of-the-algorithms-3\"><span class=\"toc-item-num\">3&nbsp;&nbsp;</span>Description of the algorithms</a></span></li></ul></div>"
   ]
  },
  {
   "cell_type": "markdown",
   "metadata": {},
   "source": [
    "<h1><center> TP1 : Basic functions for Supervised Machine Learning. </center></h1>\n",
    "\n",
    "The deadline for report submission is Tuesday, November 30th 2021.\n",
    "\n",
    "Note: the goal of this first TP is to become familiar with 'sklearn' class in Python. In particular, we introduce most popular supervised learning algorithms. \n",
    "\n",
    "PART 1 is a list of commands that should be followed step by step. PART 2 is an open problem for which we are waiting for your creativity!"
   ]
  },
  {
   "cell_type": "markdown",
   "metadata": {},
   "source": [
    "# Imported packages"
   ]
  },
  {
   "cell_type": "code",
   "execution_count": 9,
   "metadata": {},
   "outputs": [],
   "source": [
    "import numpy as np\n",
    "import matplotlib.pyplot as plt\n",
    "from sklearn.neighbors import KNeighborsClassifier\n",
    "from sklearn.model_selection import train_test_split, GridSearchCV\n",
    "from sklearn.pipeline import Pipeline\n",
    "from sklearn.svm import LinearSVC\n",
    "from sklearn.linear_model import LogisticRegression\n",
    "from sklearn.preprocessing import MaxAbsScaler, StandardScaler\n",
    "from sklearn.metrics import balanced_accuracy_score, make_scorer, confusion_matrix\n",
    "\n",
    "\n",
    "%matplotlib inline "
   ]
  },
  {
   "cell_type": "markdown",
   "metadata": {},
   "source": [
    "#  PART 1 -- MNIST\n"
   ]
  },
  {
   "cell_type": "markdown",
   "metadata": {},
   "source": [
    "In the first part of TP1 we pursue the following goals:\n",
    "1. Apply standard ML algorithms on a standard benchmark data\n",
    "2. Learn basic means of data visualizations\n",
    "3. Get familiar with sklearn's GridSearchCV and Pipeline"
   ]
  },
  {
   "cell_type": "markdown",
   "metadata": {
    "collapsed": true
   },
   "source": [
    "# Loading the data"
   ]
  },
  {
   "cell_type": "markdown",
   "metadata": {},
   "source": [
    "MNIST dataset consists of black and white images of hand-written digits from $0$ to $9$ of size $28 \\times 28$.\n",
    "In this exercise we will work with a small from the original MNIST dataset. \n",
    "\n",
    "If you are interested in the whole dataset, execute the following commands\n",
    "```python\n",
    "from sklearn.datasets import fetch_mldata\n",
    "mnist = fetch_mldata('MNIST original', data_home=custom_data_home)\n",
    "```\n",
    "\n",
    "Hence, the observations $(X_1, Y_1), \\ldots, (X_n, Y_n)$ are such that $X_i \\in \\mathbb{R}^{784}$ and $Y_i \\in \\{0, \\ldots, 9\\}$. To be more precise, each component of vector $X_i$ is a number between $0$ and $255$, which signifies the intensity of black color.\n",
    "\n",
    "The initial goal is to build a classifier $\\hat g$, which receives a new image $X$ and outputs the number that is present on the image."
   ]
  },
  {
   "cell_type": "code",
   "execution_count": 10,
   "metadata": {},
   "outputs": [
    {
     "name": "stdout",
     "output_type": "stream",
     "text": [
      "Train data contains: 2000 samples of dimension 784\n",
      "Test data contains: 200 samples\n"
     ]
    }
   ],
   "source": [
    "X_train = np.load('data/mnist1_features_train.npy', allow_pickle=True)\n",
    "y_train = np.load('data/mnist1_labels_train.npy', allow_pickle=True)\n",
    "X_test = np.load('data/mnist1_features_test.npy', allow_pickle=True)\n",
    "y_test = np.load('data/mnist1_labels_test.npy', allow_pickle=True)\n",
    "\n",
    "n_samples, n_features = X_train.shape # extract dimensions of the design matrix\n",
    "print('Train data contains: {} samples of dimension {}'.format(n_samples, n_features))\n",
    "print('Test data contains: {} samples'.format(X_test.shape[0]))"
   ]
  },
  {
   "cell_type": "markdown",
   "metadata": {},
   "source": [
    "# Looking at the data"
   ]
  },
  {
   "cell_type": "markdown",
   "metadata": {},
   "source": [
    "Since each observation is actually an image, we can visualize it."
   ]
  },
  {
   "cell_type": "code",
   "execution_count": 11,
   "metadata": {},
   "outputs": [
    {
     "data": {
      "image/png": "[encoded data removed]",
      "text/plain": [
       "<Figure size 432x288 with 10 Axes>"
      ]
     },
     "metadata": {
      "needs_background": "light"
     },
     "output_type": "display_data"
    }
   ],
   "source": [
    "axes = plt.subplots(1, 10)[1]  # creates a grid of 10 plots\n",
    "\n",
    "# More details about zip() function here https://docs.python.org/3.3/library/functions.html#zip\n",
    "images_and_labels = list(zip(X_train, y_train)) \n",
    "for ax, (image, label) in zip(axes, images_and_labels[:10]):\n",
    "    ax.set_axis_off()\n",
    "    ax.imshow(image.reshape((28, 28)), cmap=plt.cm.gray_r, interpolation='nearest')\n",
    "    ax.set_title('{}'.format(label))"
   ]
  },
  {
   "cell_type": "code",
   "execution_count": null,
   "metadata": {},
   "outputs": [],
   "source": [
    "for i in range(10):\n",
    "    print('Number of {}s in the train dataset is {}'.format(i, np.sum([y_train == str(i)])))"
   ]
  },
  {
   "cell_type": "markdown",
   "metadata": {},
   "source": [
    "From the above we conclude that the dataset is rather balanced, that is, each class contains similar amount of observations. The rarest class is $y = 6$ with $175$ examples and the most common class is $y = 2$ with $226$ examples"
   ]
  },
  {
   "cell_type": "markdown",
   "metadata": {},
   "source": [
    "# Cross-validation with GridSearchCV"
   ]
  },
  {
   "cell_type": "markdown",
   "metadata": {},
   "source": [
    "What is the complexity for each of the three following cases? "
   ]
  },
  {
   "cell_type": "markdown",
   "metadata": {},
   "source": [
    "When reading the doc, we can see there are various algorithm to compute the nearest neighbors. The default parameter is auto and Sklearn documentation doesn't give a clear explanation what lies behind the auto parameter. We will assume that brute force is used here, which is the method we saw in class. \n",
    "\n",
    "**K-NN** \n",
    "\n",
    "Let's resume the steps computed for K-NN. \n",
    "Assume we fix the number of neighbors K : \n",
    "    * We loop over k and for each entry in the samples, compute de the distance d over the n_features and select the smallest distance d (when k=1), the second smallest (when k=2) until the $k^{th}$ smallest (when k=K). The distance computing for an entry is in O(n_features) and this calculations is made n_samples times. So for each neighbor, the complexity is $O$n_{features} * n_{samples})$.\n",
    "    \n",
    "As there is K neighbors, the final complexity is $O(K * n_{features} * n_{samples})$.\n",
    "\n",
    "\n",
    "**SVM**\n",
    "\n",
    "For the SVM classifier, we use the 1.4.4 section of its Sklearn description. In the case of the linear SVC here, the algorithm used for optimization (coming for the liblinear library) $\\textit{scales almost linearly to millions of samples and/or features}$. This means that the algorithm is in $O(n_{features} * n_{samples})$.\n",
    "\n",
    "**Logistic Regression**\n",
    "\n",
    "  We can summarize the logistic regression as the optimization of the following parameters : a vectors of bias terms b and the vectors of weights W. This vectors are of dimension $n_{features}$. To optimize this parameters, we compute for each entry the weighted sum : $ \\sigma(X_{i}^{T} W) + b$ with $X_{i}$ the vector of features for entry i. For each i in range $n_{features}$, there is $n_{features} calculations.$ Therefore the complexity of logistic regression is $O(n_{features} * n_{samples})$\n",
    "  \n",
    "**Grid Search**\n",
    "\n",
    "The gridsearch only multiply the complexity by the number of fit. For example, we try 5 parameters for the KNN algorithm over 3 CV, so there are 15 fits. This means multiplying the complexity by 15 (a constant) in this and changes nothing. However, we could multiply all the complexities above by $n_{fit}$ to be perfectly rigorous."
   ]
  },
  {
   "cell_type": "code",
   "execution_count": 5,
   "metadata": {},
   "outputs": [
    {
     "name": "stdout",
     "output_type": "stream",
     "text": [
      "Returned hyperparameter: {'n_neighbors': 1}\n",
      "Best classification accuracy in train is: 0.891497944721333\n",
      "Classification accuracy on test is: 0.875\n"
     ]
    }
   ],
   "source": [
    "# GridSearchCV with kNN : a simple baseline\n",
    "knn = KNeighborsClassifier() # defining classifier\n",
    "parameters = {'n_neighbors': [1, 2, 3, 4, 5]} # defining parameter space\n",
    "clf = GridSearchCV(knn, parameters, cv=3)\n",
    "clf.fit(X_train, y_train)\n",
    "\n",
    "print('Returned hyperparameter: {}'.format(clf.best_params_))\n",
    "print('Best classification accuracy in train is: {}'.format(clf.best_score_))\n",
    "print('Classification accuracy on test is: {}'.format(clf.score(X_test, y_test)))"
   ]
  },
  {
   "cell_type": "markdown",
   "metadata": {},
   "source": [
    "**Question:** Explain in your report what happens when we run \n",
    "```python\n",
    "clf.fit(X_train, y_train)\n",
    "```\n",
    "<span style=\"color:##3366FF\"> When we run the method .fit, we launch the search over best combinaisons of parameters for our estimator. Here our estimator is a classifier : a  knnclassifier model and our parameters are those we place into the variable \"parameters\". The data we use for the search are X_train and y_train. A GridSearchCV is an exhaustive search, that means all combinaisons of parameters are tested. Each combinaison of parameters give a new model. For example here we have a model with 1 neighbor, then with 2 neighbors, etc. As we specified cv = 3, we have a 3 fold cross-validation for each tested model.\n",
    "</span>\n",
    "<br>\n",
    "\\\n",
    "**Question:** What is the test accuracy? What would be the accuracy of random guess? \n",
    "<br>\n",
    "<span style=\"color:##3366FF\"> The test accuracy here is the proportion of observations from the X_test dataset that we have rightly classified. <br> The accuracy of a random guess would be 0.1. Explanation : we give randomly a label (number between 0 and 10) to each observation. For each observation we have a probability of 1/10 to have a right guess. </span>\n",
    "<br>\n"
   ]
  },
  {
   "cell_type": "code",
   "execution_count": 12,
   "metadata": {},
   "outputs": [
    {
     "name": "stderr",
     "output_type": "stream",
     "text": [
      "/home/noureddineidir/.local/lib/python3.8/site-packages/sklearn/svm/_base.py:1206: ConvergenceWarning: Liblinear failed to converge, increase the number of iterations.\n",
      "  warnings.warn(\n",
      "/home/noureddineidir/.local/lib/python3.8/site-packages/sklearn/svm/_base.py:1206: ConvergenceWarning: Liblinear failed to converge, increase the number of iterations.\n",
      "  warnings.warn(\n",
      "/home/noureddineidir/.local/lib/python3.8/site-packages/sklearn/svm/_base.py:1206: ConvergenceWarning: Liblinear failed to converge, increase the number of iterations.\n",
      "  warnings.warn(\n",
      "/home/noureddineidir/.local/lib/python3.8/site-packages/sklearn/svm/_base.py:1206: ConvergenceWarning: Liblinear failed to converge, increase the number of iterations.\n",
      "  warnings.warn(\n",
      "/home/noureddineidir/.local/lib/python3.8/site-packages/sklearn/svm/_base.py:1206: ConvergenceWarning: Liblinear failed to converge, increase the number of iterations.\n",
      "  warnings.warn(\n",
      "/home/noureddineidir/.local/lib/python3.8/site-packages/sklearn/svm/_base.py:1206: ConvergenceWarning: Liblinear failed to converge, increase the number of iterations.\n",
      "  warnings.warn(\n"
     ]
    },
    {
     "name": "stdout",
     "output_type": "stream",
     "text": [
      "Returned hyperparameter: {'C': 0.00390625}\n",
      "Best classification accuracy in train is: 0.8095074084579332\n",
      "Classification accuracy on test is: 0.795\n"
     ]
    },
    {
     "name": "stderr",
     "output_type": "stream",
     "text": [
      "/home/noureddineidir/.local/lib/python3.8/site-packages/sklearn/svm/_base.py:1206: ConvergenceWarning: Liblinear failed to converge, increase the number of iterations.\n",
      "  warnings.warn(\n"
     ]
    }
   ],
   "source": [
    "# SVM Classifier\n",
    "svc = LinearSVC(max_iter=5000)\n",
    "parameters2 = {'C': np.logspace(-8, 8, 17, base=2)} # defining parameter space\n",
    "clf2 = GridSearchCV(svc, parameters2, cv=3)\n",
    "clf2.fit(X_train, y_train)\n",
    "\n",
    "\n",
    "print('Returned hyperparameter: {}'.format(clf2.best_params_))\n",
    "print('Best classification accuracy in train is: {}'.format(clf2.best_score_))\n",
    "print('Classification accuracy on test is: {}'.format(clf2.score(X_test, y_test)))"
   ]
  },
  {
   "cell_type": "markdown",
   "metadata": {},
   "source": [
    "**Question:** What is ``` LinearSVC()``` classifier? Which kernel are we using? What is ```C```? (this is a tricky question, try to find the answer online) \n",
    "<br>\n",
    "<span style=\"color:##3366FF\"> LinearSVC means Linear Support Vector Classification, we use a linear kernel. C is the parameter of regularization, by default there is no specific regularization, C = 1. The strength of the regularization is inversely proportional to C </span>\n",
    "<br>\n",
    "\\\n",
    "**Question:** What is the outcome of ```np.logspace(-8, 8, 17, base=2)```? More generally, what is the outcome of ```np.logspace(-a, b, k, base=m)```?"
   ]
  },
  {
   "cell_type": "markdown",
   "metadata": {},
   "source": [
    "<span style=\"color:##3366FF\"> The outcome of ```np.logspace(-8, 8, 17, base=2)``` is a numpy array of length 17. The numbers of this array are space evenly on a log scale beetween -8 and 8. More generally, np.logspace(-a, b, k, base=m) return numbers spaced evenly on a log scale with -a the starting value, b the stop value, k the number of samples to generate and m the base of the log space"
   ]
  },
  {
   "cell_type": "code",
   "execution_count": 5,
   "metadata": {},
   "outputs": [
    {
     "data": {
      "text/plain": [
       "array([3.90625e-03, 7.81250e-03, 1.56250e-02, 3.12500e-02, 6.25000e-02,\n",
       "       1.25000e-01, 2.50000e-01, 5.00000e-01, 1.00000e+00, 2.00000e+00,\n",
       "       4.00000e+00, 8.00000e+00, 1.60000e+01, 3.20000e+01, 6.40000e+01,\n",
       "       1.28000e+02, 2.56000e+02])"
      ]
     },
     "execution_count": 5,
     "metadata": {},
     "output_type": "execute_result"
    }
   ],
   "source": [
    "np.logspace(-8, 8, 17, base=2)"
   ]
  },
  {
   "cell_type": "markdown",
   "metadata": {},
   "source": [
    "**Question** What is the meaning of the warnings? What is the parameter responsible for its appearence?\n",
    "<br>\n",
    "\\\n",
    "<span style=\"color:##3366FF\"> There is a convergence warning, there is not enough iterations to have a convergence. The parameter responsible for its appareance is max_iter"
   ]
  },
  {
   "cell_type": "code",
   "execution_count": 7,
   "metadata": {},
   "outputs": [
    {
     "name": "stdout",
     "output_type": "stream",
     "text": [
      "Returned hyperparameter: {'svc__C': 0.015625}\n",
      "Best classification accuracy in train is: 0.863002432717575\n",
      "Classification accuracy on test is: 0.84\n"
     ]
    }
   ],
   "source": [
    "# SVM Classifier + Pipeline\n",
    "pipe = Pipeline([('scaler', MaxAbsScaler()), ('svc', svc)])\n",
    "parameters3 = {'svc__C': np.logspace(-8, 8, 17, base=2)} # defining parameter space\n",
    "clf3 = GridSearchCV(pipe, parameters3, cv=3)\n",
    "clf3.fit(X_train, y_train)\n",
    "\n",
    "print('Returned hyperparameter: {}'.format(clf3.best_params_))\n",
    "print('Best classification accuracy in train is: {}'.format(clf3.best_score_))\n",
    "print('Classification accuracy on test is: {}'.format(clf3.score(X_test, y_test)))"
   ]
  },
  {
   "cell_type": "markdown",
   "metadata": {},
   "source": [
    "**Question:** What did we change with respect to the previous run of ```LinearSVC()```?\n",
    "<span style=\"color:##3366FF\"> With respect to the previous run of LinearSVC(), we add a pipeline. In ML we often have to perform sequence of different transformations (examples : select only some good features, scaling) of raw dataset before applying final estimator. A pipeline enables us to do all these transformations in once. Each transformation is contained in a step. Here we have 2 steps : the 1st step is a scaler which enables us to scale our features (it's a way to normalize our data), the second step is the model svc the define earlier : svc = LinearSVC(max_iter=5000) \n",
    "</span>\n",
    "<br>\n",
    "\\\n",
    "**Question:** Explain what happens if we execute\n",
    "```python\n",
    "    pipe.fit(X_train, y_train)\n",
    "    pipe.predict(X_test, y_test)\n",
    "```\n",
    "<span style=\"color:##3366FF\"> When we run the code we see that there is no warnings concerning convergence anymore so the problem we had earlier was probably due to the absence of normalization. <br>\n",
    "If we execute the 2 lines of code : we execute the 2 steps of the pipeline (that we explain earlier) on the train set with the method fit. Then our model is trained and we can predict the class of the test dataset. When we apply the pipeline to our test dataset, the first step of scaling is applied to X_test and then the model of the 2nd step."
   ]
  },
  {
   "cell_type": "code",
   "execution_count": 8,
   "metadata": {},
   "outputs": [
    {
     "name": "stdout",
     "output_type": "stream",
     "text": [
      "Returned hyperparameter: {'logreg__C': 0.0078125}\n",
      "Best classification accuracy in train is: 0.8705039372205788\n",
      "Classification accuracy on test is: 0.84\n"
     ]
    }
   ],
   "source": [
    "# Logistic regression\n",
    "pipe = Pipeline([('scaler', StandardScaler()), ('logreg', LogisticRegression(max_iter=5000))])\n",
    "parameters4 = {'logreg__C': np.logspace(-8, 8, 17, base=2)} # defining parameter space\n",
    "clf4 = GridSearchCV(pipe, parameters4, cv=3)\n",
    "clf4.fit(X_train, y_train)\n",
    "\n",
    "print('Returned hyperparameter: {}'.format(clf4.best_params_))\n",
    "print('Best classification accuracy in train is: {}'.format(clf4.best_score_))\n",
    "print('Classification accuracy on test is: {}'.format(clf4.score(X_test, y_test)))"
   ]
  },
  {
   "cell_type": "markdown",
   "metadata": {},
   "source": [
    "**Question:** what is the difference between ```StandardScaler()``` and ```MaxAbsScaler()```? What are other scaling options available in ```sklearn```? \n",
    "<br>\n",
    "\\\n",
    "<span style=\"color:##3366FF\"> It is not the same way of scaling our features. StandardScaler() for a sample x is calculated as: z = (x - u) / s whereas MaxAbsScaler for a sample X = (x1, x2, ..., xn) is calculated as : Z = (x1/m, x2/m, ..., xn/m) with m = max(absolute value(xi)) for i in [1,n]. Other scaling options are RobustScaler (= robust to outlier), MinMaxScaler.\n",
    "<br>\n",
    "</span>\n",
    "\\\n",
    "**Question:** using the previous code as an example achieve test accuracy $\\geq 0.9$. You can use any method from sklearn package. Give a mathematical description of the selected method. Explain the range of considered hyperparamers."
   ]
  },
  {
   "cell_type": "code",
   "execution_count": 12,
   "metadata": {},
   "outputs": [
    {
     "data": {
      "text/plain": [
       "0.92"
      ]
     },
     "execution_count": 12,
     "metadata": {},
     "output_type": "execute_result"
    }
   ],
   "source": [
    "# import model\n",
    "from sklearn.ensemble import RandomForestClassifier\n",
    "\n",
    "# Random Forest \n",
    "rf = RandomForestClassifier()\n",
    "\n",
    "rf.fit(X_train, y_train)\n",
    "rf.score(X_test, y_test)\n",
    "# we have a test accuracy > 0.9 with the parameters by default of the RandomForestClassifier.\n",
    "# As a consequence we know that the default parameters already give good performances. We can try to consider a range\n",
    "# of hyperparameters close to the default parameters. "
   ]
  },
  {
   "cell_type": "code",
   "execution_count": 9,
   "metadata": {},
   "outputs": [
    {
     "data": {
      "text/plain": [
       "dict_keys(['bootstrap', 'ccp_alpha', 'class_weight', 'criterion', 'max_depth', 'max_features', 'max_leaf_nodes', 'max_samples', 'min_impurity_decrease', 'min_samples_leaf', 'min_samples_split', 'min_weight_fraction_leaf', 'n_estimators', 'n_jobs', 'oob_score', 'random_state', 'verbose', 'warm_start'])"
      ]
     },
     "execution_count": 9,
     "metadata": {},
     "output_type": "execute_result"
    }
   ],
   "source": [
    "rf.get_params().keys() # see the existing parameters of a random forest\n",
    "\n",
    "# As we don't have a huge dataset we can let the default parameters for max_depth, min_samples_leaf and min_samples_split\n",
    "# By default we have max_features = sqrt(n_features)"
   ]
  },
  {
   "cell_type": "code",
   "execution_count": 10,
   "metadata": {},
   "outputs": [
    {
     "data": {
      "text/plain": [
       "28.0"
      ]
     },
     "execution_count": 10,
     "metadata": {},
     "output_type": "execute_result"
    }
   ],
   "source": [
    "# calculate sqrt(784) to have a interesting range for parameter max_features\n",
    "from math import sqrt\n",
    "sqrt(784)"
   ]
  },
  {
   "cell_type": "code",
   "execution_count": 13,
   "metadata": {},
   "outputs": [
    {
     "name": "stdout",
     "output_type": "stream",
     "text": [
      "Returned hyperparameter: {'max_features': 35, 'n_estimators': 200}\n",
      "Best classification accuracy in train is: 0.9155024589807198\n",
      "Classification accuracy on test is: 0.91\n"
     ]
    }
   ],
   "source": [
    "param_grid_ = {\n",
    "    'max_features': [25, 28, 35, 50],\n",
    "    'n_estimators': [90, 100, 150, 200, 300] #number of trees in the forest\n",
    "}\n",
    "\n",
    "rf_clf = GridSearchCV(estimator = rf, param_grid = param_grid_, cv=3)\n",
    "rf_clf.fit(X_train, y_train)\n",
    "\n",
    "print('Returned hyperparameter: {}'.format(rf_clf.best_params_))\n",
    "print('Best classification accuracy in train is: {}'.format(rf_clf.best_score_))\n",
    "print('Classification accuracy on test is: {}'.format(rf_clf.score(X_test, y_test)))"
   ]
  },
  {
   "cell_type": "markdown",
   "metadata": {},
   "source": [
    "<span style=\"color:##3366FF\"> \n",
    "Mathematical explanation for random forest <br>\n",
    "Random forest= DT(base learner)+ bagging(Row sampling with replacement)+ feature bagging(column sampling) + aggregation(mean/median, majority vote)\n",
    "    \n",
    "DT + bagging : decision tree on just a subpart of our sample\n",
    "\n",
    "feature bagging : to build our decision tree we don't use all our features but just a part of them.\n",
    "\n",
    "Thanks to bagging on the observations level and on the features level we create trees with little variations. Thus, each tree in our forest is different. Each tree vote for the class of the observation. The majority vote is the predicted class.\n",
    "</span>"
   ]
  },
  {
   "cell_type": "markdown",
   "metadata": {},
   "source": [
    "# Visualizing errors"
   ]
  },
  {
   "cell_type": "markdown",
   "metadata": {},
   "source": [
    "Some ```sklearn``` methods are able to output probabilities ```predict_proba(X_test)```."
   ]
  },
  {
   "cell_type": "markdown",
   "metadata": {},
   "source": [
    "**Question** There is a mistake in the following chunk of code. Fix it."
   ]
  },
  {
   "cell_type": "code",
   "execution_count": 12,
   "metadata": {
    "scrolled": true
   },
   "outputs": [
    {
     "data": {
      "image/png": "[encoded data removed]",
      "text/plain": [
       "<Figure size 432x288 with 8 Axes>"
      ]
     },
     "metadata": {
      "needs_background": "light"
     },
     "output_type": "display_data"
    }
   ],
   "source": [
    "axes = plt.subplots(2, 4)[1]  # creates a grid of 8 plots\n",
    "\n",
    "# More details about zip() function here https://docs.python.org/3.3/library/functions.html#zip\n",
    "y_pred = clf4.predict(X_test)\n",
    "j = 0 # Index which iterates over plots\n",
    "for true_label, pred_label, image in list(zip(y_test, y_pred, X_test)):\n",
    "    if j == 4: # We only want to look at 4 first mistakes\n",
    "        break\n",
    "    if true_label != pred_label: #if we made a mistake\n",
    "        # Plotting predicted probabilities\n",
    "        axes[1, j].bar(np.arange(10), clf4.predict_proba(image.reshape(1, -1))[0])\n",
    "        axes[1, j].set_xticks(np.arange(10)) # add ticks from 0 to 9\n",
    "        axes[1, j].set_yticks([]) # withdraw yticks \n",
    "        \n",
    "        # Plotting the image\n",
    "        axes[0, j].imshow(image.reshape((28, 28)), cmap=plt.cm.gray_r, interpolation='nearest')\n",
    "        axes[0, j].set_xticks([])\n",
    "        axes[0, j].set_yticks([])\n",
    "        axes[0, j].set_title('Predicted {}'.format(pred_label))\n",
    "        j += 1\n",
    "        "
   ]
  },
  {
   "cell_type": "markdown",
   "metadata": {},
   "source": [
    "# Changing the Loss function"
   ]
  },
  {
   "cell_type": "markdown",
   "metadata": {},
   "source": [
    "It often happens that the accuracy is not the right way to evaluate the performance. ```sklearn``` has a large variety of other metrics both in classification and regression. See https://scikit-learn.org/stable/modules/classes.html#module-sklearn.metrics\n",
    "\n",
    "Here we want to understand how to change the cross-validation metric with minimal effort."
   ]
  },
  {
   "cell_type": "code",
   "execution_count": 14,
   "metadata": {},
   "outputs": [
    {
     "name": "stdout",
     "output_type": "stream",
     "text": [
      "Returned hyperparameter: {'svc__C': 0.015625}\n",
      "Best Balanced accuracy in train is: 0.8612334093654231\n",
      "Balanced accuracy on test is: 0.825627008328415\n"
     ]
    }
   ],
   "source": [
    "# SVM Classifier + Pipeline + New score function\n",
    "svc = LinearSVC(max_iter=5000)\n",
    "pipe = Pipeline([('scaler', MaxAbsScaler()), ('svc', svc)])\n",
    "parameters4 = {'svc__C': np.logspace(-8, 8, 17, base=2)} # defining parameter space\n",
    "balanced_scorer = make_scorer(balanced_accuracy_score)\n",
    "\n",
    "clf4 = GridSearchCV(pipe, parameters4, cv=3, scoring=balanced_scorer)\n",
    "clf4.fit(X_train, y_train)\n",
    "\n",
    "print('Returned hyperparameter: {}'.format(clf4.best_params_))\n",
    "print('Best Balanced accuracy in train is: {}'.format(clf4.best_score_))\n",
    "print('Balanced accuracy on test is: {}'.format(clf4.score(X_test, y_test)))"
   ]
  },
  {
   "attachments": {
    "balance-a.PNG": {
     "image/png": "[encoded data removed]"
    }
   },
   "cell_type": "markdown",
   "metadata": {},
   "source": [
    "**Question:** What is ```balanced_accuracy_score```? Write its mathematical description.\n",
    "<br>\n",
    "\\\n",
    "<span style=\"color:##3366FF\"> \n",
    "The balanced accuracy is a metric to evaluate the performance of our model. It is often use in case of imbalanced datasets in classifications problem. Indeed take for example a binary classification problem where we have a imbalanced dataset with 90% of our observations in class 0 and 10% in class 1. If we take a dummy estimator that always predict the class 0 we'll have an accuracy of 0.9. Thus, in that case, the accuracy score is an inappropriate metric. <br>\n",
    "Mathematically, the balanced accuracy score is defined as the average of recall obtained on each class. The best value is 1 and the worst value is 0 when adjusted=False (parameter by default). The mathematical formula is given by : <br>\n",
    "![balance-a.PNG](attachment:balance-a.PNG)\n",
    "<br>\n",
    "</span>\n",
    "\\\n",
    "Sometimes it is important to look at the confusion matrix of the prediction.\n",
    "\n",
    "**Question:** What is the confusion matrix? What are the conclusions that we can draw from the ```confusion_matrix(y_test, clf4.predict(X_test))```\n",
    "\n",
    "<span style=\"color:##3366FF\"> \n",
    "The confusion matrix is a matrix with each row i corresponding to the true class and with each column j corresponding to the predicted class. Entry i, j in a confusion matrix is the number of observations actually in group i, but predicted to be in group j.\n",
    "</span>"
   ]
  },
  {
   "cell_type": "code",
   "execution_count": 15,
   "metadata": {},
   "outputs": [
    {
     "data": {
      "text/plain": [
       "<AxesSubplot:>"
      ]
     },
     "execution_count": 15,
     "metadata": {},
     "output_type": "execute_result"
    },
    {
     "data": {
      "image/png": "[encoded data removed]",
      "text/plain": [
       "<Figure size 432x288 with 2 Axes>"
      ]
     },
     "metadata": {
      "needs_background": "light"
     },
     "output_type": "display_data"
    }
   ],
   "source": [
    "import seaborn as sns\n",
    "sns.heatmap(confusion_matrix(y_test, clf4.predict(X_test)), annot=True, cmap='Blues')\n",
    "#print(confusion_matrix(y_test, clf4.predict(X_test)))"
   ]
  },
  {
   "cell_type": "markdown",
   "metadata": {},
   "source": [
    "<span style=\"color:##3366FF\"> \n",
    "The conclusions we can draw are that the classes where we make most of the mistakes are : <br>\n",
    "The most common mistake is to predict 5 instead of 8. There are 3 observations that we classified 5 whereas their true label is 8. <br>\n",
    "The second most common mistakes are to predict 7 instead of 9 and 1 instead of 8. <br>\n",
    "The class we have the most trouble to rightly predict is 8. In total we predict wrongly 8 6 times.\n",
    "</span>"
   ]
  },
  {
   "cell_type": "markdown",
   "metadata": {},
   "source": [
    "# PART 2 -- Problem"
   ]
  },
  {
   "attachments": {
    "loss.PNG": {
     "image/png": "[encoded data removed]"
    }
   },
   "cell_type": "markdown",
   "metadata": {},
   "source": [
    "The data that we have contains images with $10$ classes. Normally, accuracy is a reasonable choice of the loss function to be optimized, but in this problem we *really* do not like when digits from $\\{5, 6, 7, 8, 9\\}$ are predicted to be from $\\{0, 1, 2, 3, 4\\}$.\n",
    "\n",
    "**Question:** Propose a loss function that would address our needs. Explain your choice.\n",
    "\n",
    "![loss.PNG](attachment:loss.PNG)\n",
    "\n",
    "<span style=\"color:##3366FF\">\n",
    "Let $x_{ij}$ be the coefficient of the $i^{th}$ row and the $j^{th}$ column. <br>\n",
    "The red area in the confusion matrix represents all the mistakes we *really* want to avoid, that is to say the digits from $\\{5, 6, 7, 8, 9\\}$ are predicted to be from $\\{0, 1, 2, 3, 4\\}$. The red area is the ensemble $E_{1}$ = $\\{ x_{ij} \\text{with i in} \\{5,6,7,8,9\\} \\text{and j in} \\{0,1,2,3,4\\} \\}$  <br>\n",
    "In the diagonal we have all the observations that we have correctly classified.  <br>\n",
    "The remaining coefficients that is to say the coefficients in the ensemble $E_{2}$ = $\\{ x_{ij} \\text{with i in} \\{0,1,2,3,4\\} \\text{and j in} \\{5,6,7,8,9\\} \\text{but i $\\neq$ j} \\}$  <br>\n",
    "\n",
    "The idea is that if we sum the coefficients of $E_{1}$ (let call this sum $S_{1}$) we obtain the number of errors we *really* want to avoid. So the worst errors, let call them errors type 1.  <br>\n",
    "Let call the other type of errors, errors type 2, and the sum the coefficients of $E_{2}$ is noted $S_{2}$.\n",
    "We want to minimize $S_{1}$ but yet still control for $S_{2}$.\n",
    "<br>\n",
    "Thus we have a loss function like this :  <br>\n",
    "$ l(y, y') =  \\alpha S_{1} + \\beta S_{2} $ <br>\n",
    "with $\\alpha$ > $\\beta$ because errors type 1 are worst than errors type 2\n",
    "</span>"
   ]
  },
  {
   "cell_type": "markdown",
   "metadata": {},
   "source": [
    "**Question:** Following above examples, make an ML pipeline that uses *your* loss function and finds appropriate classifiers.\n",
    "\n",
    "When writing your report on this part, include:\n",
    "   1. description of your loss function\n",
    "   2. description of the pipeline\n",
    "   3. description of the algorithms that you used "
   ]
  },
  {
   "cell_type": "markdown",
   "metadata": {},
   "source": [
    "### Description of my loss function"
   ]
  },
  {
   "cell_type": "markdown",
   "metadata": {},
   "source": [
    "First we are going to define our custom loss function"
   ]
  },
  {
   "cell_type": "code",
   "execution_count": 16,
   "metadata": {},
   "outputs": [],
   "source": [
    "def my_custom_loss_func(y, y_pred, alpha = 3, beta = 1):\n",
    "    \"\"\" arguments : clf for classifier\n",
    "                    X for the features\n",
    "                    y for the true labels\n",
    "    \"\"\"\n",
    "    cm = confusion_matrix(y, y_pred, normalize = 'true') #calculate confusion matrix\n",
    "    S1 = 0 #initialize S1, will be the sum of the coefficient in the red rectangle\n",
    "    S2 = 0 #initialize S2 the sum of coefficients that are neither in the diagonal nor the red rectangle\n",
    "    S3 = 0 #initialize S3; S3 is define as the sum of diagonal coefficient\n",
    "    \n",
    "    for i in range(5,10): # calculate S1\n",
    "        for j in range(5): \n",
    "            S1 += cm[i,j]\n",
    "            \n",
    "    for i in range(10): # calculate S3\n",
    "        S3 += cm[i,i]\n",
    "        \n",
    "    for i in range(10):\n",
    "        for j in range(10):\n",
    "            S2 += cm[i,j] #sum of all coeffs\n",
    "    \n",
    "    S2 = S2 - S1 - S3  #substract the coeffs on diagonal and red rectangle \n",
    "    \n",
    "    return alpha * S1 + beta * S2"
   ]
  },
  {
   "cell_type": "code",
   "execution_count": 17,
   "metadata": {},
   "outputs": [],
   "source": [
    "from sklearn.metrics import make_scorer\n",
    "new_scorer = make_scorer(my_custom_loss_func, greater_is_better = False) #this step is called \"wrapping\" \n",
    "#wrapping is mandotary to pass a score function in the GridSearch argument\n",
    "#here greater is better = False means we want to minimize the score defined earlier rather than maximize it! \n",
    "#this mean maximizing the opposite (-score)"
   ]
  },
  {
   "cell_type": "markdown",
   "metadata": {},
   "source": [
    "### Description of my pipeline"
   ]
  },
  {
   "cell_type": "markdown",
   "metadata": {},
   "source": [
    "Here, we'll use the same pipeline as before with (or without) scaling and then applying our model."
   ]
  },
  {
   "cell_type": "code",
   "execution_count": 22,
   "metadata": {},
   "outputs": [
    {
     "name": "stdout",
     "output_type": "stream",
     "text": [
      "Returned hyperparameter: {'n_neighbors': 1}\n",
      "Best classification new score in train is: -1.814125395794423\n",
      "Classification new score on test is: -2.2122220384048994\n"
     ]
    }
   ],
   "source": [
    "# GridSearchCV with kNN : a simple baseline\n",
    "knn = KNeighborsClassifier() # defining classifier\n",
    "parameters = {'n_neighbors': [1, 2, 3, 4, 5]} # defining parameter space\n",
    "clf = GridSearchCV(knn, parameters, cv=3, scoring = new_scorer)\n",
    "clf.fit(X_train, y_train)\n",
    "\n",
    "print('Returned hyperparameter: {}'.format(clf.best_params_))\n",
    "print('Best classification new score in train is: {}'.format(clf.best_score_))\n",
    "print('Classification new score on test is: {}'.format(clf.score(X_test, y_test)))"
   ]
  },
  {
   "cell_type": "markdown",
   "metadata": {},
   "source": [
    "The optimal parameter regarding the new score is still 1 neighbor (as for accuracy). Here we could say the range of parameter is too narrow to get a real difference. Let's work with a different algorithm after plotting the confusion matrix."
   ]
  },
  {
   "cell_type": "code",
   "execution_count": 23,
   "metadata": {},
   "outputs": [],
   "source": [
    "y_pred = clf.predict(X_test)"
   ]
  },
  {
   "cell_type": "code",
   "execution_count": 24,
   "metadata": {},
   "outputs": [
    {
     "data": {
      "text/plain": [
       "<AxesSubplot:>"
      ]
     },
     "execution_count": 24,
     "metadata": {},
     "output_type": "execute_result"
    },
    {
     "data": {
      "image/png": "[encoded data removed]",
      "text/plain": [
       "<Figure size 432x288 with 2 Axes>"
      ]
     },
     "metadata": {
      "needs_background": "light"
     },
     "output_type": "display_data"
    }
   ],
   "source": [
    "sns.heatmap(confusion_matrix(y_test, y_pred), annot=True, cmap='Blues')"
   ]
  },
  {
   "cell_type": "code",
   "execution_count": 25,
   "metadata": {},
   "outputs": [
    {
     "name": "stdout",
     "output_type": "stream",
     "text": [
      "Returned hyperparameter: {'logreg__C': 0.0078125}\n",
      "Best classification score on train is: -2.1599561086768033\n",
      "Classification score on test is: -2.590149354056002\n"
     ]
    }
   ],
   "source": [
    "# Logistic regression\n",
    "pipe = Pipeline([('scaler', StandardScaler()), ('logreg', LogisticRegression(max_iter=5000))])\n",
    "parameters4 = {'logreg__C': np.logspace(-8, 8, 17, base=2)} # defining parameter space\n",
    "clf4 = GridSearchCV(pipe, parameters4, cv=3, scoring = new_scorer)\n",
    "clf4.fit(X_train, y_train)\n",
    "\n",
    "print('Returned hyperparameter: {}'.format(clf4.best_params_))\n",
    "print('Best classification score on train is: {}'.format(clf4.best_score_))\n",
    "print('Classification score on test is: {}'.format(clf4.score(X_test, y_test)))"
   ]
  },
  {
   "cell_type": "markdown",
   "metadata": {},
   "source": [
    "One must remember here that the aim is to minimize the loss function, thus maximize $-score$. Here the logistic regression does a little worse than the 1-NN. "
   ]
  },
  {
   "cell_type": "code",
   "execution_count": 26,
   "metadata": {},
   "outputs": [
    {
     "data": {
      "text/plain": [
       "<AxesSubplot:>"
      ]
     },
     "execution_count": 26,
     "metadata": {},
     "output_type": "execute_result"
    },
    {
     "data": {
      "image/png": "[encoded data removed]",
      "text/plain": [
       "<Figure size 432x288 with 2 Axes>"
      ]
     },
     "metadata": {
      "needs_background": "light"
     },
     "output_type": "display_data"
    }
   ],
   "source": [
    "sns.heatmap(confusion_matrix(y_test, clf4.predict(X_test)), annot=True, cmap='Blues')"
   ]
  },
  {
   "cell_type": "code",
   "execution_count": 28,
   "metadata": {},
   "outputs": [
    {
     "name": "stdout",
     "output_type": "stream",
     "text": [
      "Returned hyperparameter: {'max_features': 25, 'n_estimators': 200}\n",
      "Best classification new score on train is: -1.5200879288268705\n",
      "Classification new score on test is: -1.2613720571840776\n"
     ]
    }
   ],
   "source": [
    "#try our best model so far ! \n",
    "param_grid_ = {\n",
    "    'max_features': [25, 28, 35, 50],\n",
    "    'n_estimators': [90, 100, 150, 200, 300] #number of trees in the forest\n",
    "}\n",
    "\n",
    "rdf_loss = GridSearchCV(estimator = rf, param_grid = param_grid_, cv=3, scoring = new_scorer)\n",
    "rdf_loss.fit(X_train, y_train)\n",
    "\n",
    "print('Returned hyperparameter: {}'.format(rdf_loss.best_params_))\n",
    "print('Best classification new score on train is: {}'.format(rdf_loss.best_score_))\n",
    "print('Classification new score on test is: {}'.format(rdf_loss.score(X_test, y_test)))\n"
   ]
  },
  {
   "cell_type": "markdown",
   "metadata": {},
   "source": [
    "The new score is improved with a RandomForest ! Furthermore, we can see that the max_features hyperparameter has changed in comparison to the RFclassifier defined earlier : the optimal number is 25 features rather than 28. Let's compare the performance"
   ]
  },
  {
   "cell_type": "code",
   "execution_count": 30,
   "metadata": {},
   "outputs": [
    {
     "data": {
      "text/plain": [
       "-1.5484400616433887"
      ]
     },
     "execution_count": 30,
     "metadata": {},
     "output_type": "execute_result"
    }
   ],
   "source": [
    "-my_custom_loss_func(y_test, rf_clf.best_estimator_.predict(X_test)) #-score of the rf fine-tuned with accuracy score.\n"
   ]
  },
  {
   "cell_type": "markdown",
   "metadata": {},
   "source": [
    "The RF fine tuned on the new score does definitly better when classifying with our new constraints. What about the accuracy of these two models?"
   ]
  },
  {
   "cell_type": "code",
   "execution_count": 32,
   "metadata": {},
   "outputs": [
    {
     "name": "stdout",
     "output_type": "stream",
     "text": [
      "Accuracy of the RandomForest fine-tuned with accuracy: 0.91\n",
      "Accuracy of the RandomForest fine-tuned with new score: 0.925\n"
     ]
    }
   ],
   "source": [
    "#let's first compare the accuracy scores for each model\n",
    "from sklearn.metrics import accuracy_score\n",
    "print(\"Accuracy of the RandomForest fine-tuned with accuracy: {}\".format(accuracy_score(y_test, rf_clf.predict(X_test))))\n",
    "\n",
    "print(\"Accuracy of the RandomForest fine-tuned with new score: {}\".format(accuracy_score(y_test, rdf_loss.predict(X_test))))\n"
   ]
  },
  {
   "cell_type": "markdown",
   "metadata": {},
   "source": [
    "Surprisingly, the model fine tuned on new score does a little better than the older one. This could be due to randomness or the fact that we also increase the overall accuracy by focusing on some kinds of error ! "
   ]
  },
  {
   "cell_type": "code",
   "execution_count": 33,
   "metadata": {},
   "outputs": [
    {
     "data": {
      "text/plain": [
       "<AxesSubplot:>"
      ]
     },
     "execution_count": 33,
     "metadata": {},
     "output_type": "execute_result"
    },
    {
     "data": {
      "image/png": "[encoded data removed]",
      "text/plain": [
       "<Figure size 432x288 with 2 Axes>"
      ]
     },
     "metadata": {
      "needs_background": "light"
     },
     "output_type": "display_data"
    }
   ],
   "source": [
    "sns.heatmap(confusion_matrix(y_test, rf_clf.predict(X_test)\n",
    "                            ), annot=True, cmap='Blues')"
   ]
  },
  {
   "cell_type": "markdown",
   "metadata": {},
   "source": [
    "When comparing the two confusion matrices (the cm of the new score model is the one below, one must notice we really did reduce the number of errors in our focus zone from 7 to 5 errors. "
   ]
  },
  {
   "cell_type": "code",
   "execution_count": 34,
   "metadata": {},
   "outputs": [
    {
     "data": {
      "text/plain": [
       "<AxesSubplot:>"
      ]
     },
     "execution_count": 34,
     "metadata": {},
     "output_type": "execute_result"
    },
    {
     "data": {
      "image/png": "[encoded data removed]",
      "text/plain": [
       "<Figure size 432x288 with 2 Axes>"
      ]
     },
     "metadata": {
      "needs_background": "light"
     },
     "output_type": "display_data"
    }
   ],
   "source": [
    "sns.heatmap(confusion_matrix(y_test, rdf_loss.predict(X_test)), annot=True, cmap='Blues')"
   ]
  },
  {
   "cell_type": "markdown",
   "metadata": {},
   "source": [
    "### Description of the algorithms "
   ]
  },
  {
   "cell_type": "markdown",
   "metadata": {},
   "source": [
    "Please refer to the report for description."
   ]
  }
 ],
 "metadata": {
  "celltoolbar": "Raw Cell Format",
  "kernelspec": {
   "display_name": "Python 3 (ipykernel)",
   "language": "python",
   "name": "python3"
  },
  "language_info": {
   "codemirror_mode": {
    "name": "ipython",
    "version": 3
   },
   "file_extension": ".py",
   "mimetype": "text/x-python",
   "name": "python",
   "nbconvert_exporter": "python",
   "pygments_lexer": "ipython3",
   "version": "3.8.10"
  },
  "toc": {
   "base_numbering": 1,
   "nav_menu": {},
   "number_sections": true,
   "sideBar": true,
   "skip_h1_title": true,
   "title_cell": "Table of Contents",
   "title_sidebar": "Contents",
   "toc_cell": true,
   "toc_position": {},
   "toc_section_display": true,
   "toc_window_display": false
  },
  "varInspector": {
   "cols": {
    "lenName": 16,
    "lenType": 16,
    "lenVar": 40
   },
   "kernels_config": {
    "python": {
     "delete_cmd_postfix": "",
     "delete_cmd_prefix": "del ",
     "library": "var_list.py",
     "varRefreshCmd": "print(var_dic_list())"
    },
    "r": {
     "delete_cmd_postfix": ") ",
     "delete_cmd_prefix": "rm(",
     "library": "var_list.r",
     "varRefreshCmd": "cat(var_dic_list()) "
    }
   },
   "types_to_exclude": [
    "module",
    "function",
    "builtin_function_or_method",
    "instance",
    "_Feature"
   ],
   "window_display": false
  }
 },
 "nbformat": 4,
 "nbformat_minor": 2
}
